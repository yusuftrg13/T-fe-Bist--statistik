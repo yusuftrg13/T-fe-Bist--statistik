{
 "cells": [
  {
   "cell_type": "code",
   "execution_count": 1,
   "id": "e766e539",
   "metadata": {},
   "outputs": [],
   "source": [
    "import pandas as pd\n",
    "import numpy as np\n",
    "import matplotlib.pyplot as plt"
   ]
  },
  {
   "cell_type": "code",
   "execution_count": 3,
   "id": "b00c0f42",
   "metadata": {},
   "outputs": [
    {
     "data": {
      "text/html": [
       "<div>\n",
       "<style scoped>\n",
       "    .dataframe tbody tr th:only-of-type {\n",
       "        vertical-align: middle;\n",
       "    }\n",
       "\n",
       "    .dataframe tbody tr th {\n",
       "        vertical-align: top;\n",
       "    }\n",
       "\n",
       "    .dataframe thead th {\n",
       "        text-align: right;\n",
       "    }\n",
       "</style>\n",
       "<table border=\"1\" class=\"dataframe\">\n",
       "  <thead>\n",
       "    <tr style=\"text-align: right;\">\n",
       "      <th></th>\n",
       "      <th>Tarih</th>\n",
       "      <th>Tüfe</th>\n",
       "      <th>Üfe</th>\n",
       "      <th>BİST-GIDA</th>\n",
       "    </tr>\n",
       "  </thead>\n",
       "  <tbody>\n",
       "    <tr>\n",
       "      <th>0</th>\n",
       "      <td>2023-02-03</td>\n",
       "      <td>67.07</td>\n",
       "      <td>47.29</td>\n",
       "      <td>10122</td>\n",
       "    </tr>\n",
       "    <tr>\n",
       "      <th>1</th>\n",
       "      <td>2023-01-03</td>\n",
       "      <td>64.86</td>\n",
       "      <td>44.20</td>\n",
       "      <td>8676</td>\n",
       "    </tr>\n",
       "    <tr>\n",
       "      <th>2</th>\n",
       "      <td>2023-12-03</td>\n",
       "      <td>64.77</td>\n",
       "      <td>44.22</td>\n",
       "      <td>8616</td>\n",
       "    </tr>\n",
       "    <tr>\n",
       "      <th>3</th>\n",
       "      <td>2023-11-03</td>\n",
       "      <td>61.98</td>\n",
       "      <td>42.25</td>\n",
       "      <td>8250</td>\n",
       "    </tr>\n",
       "    <tr>\n",
       "      <th>4</th>\n",
       "      <td>2023-10-03</td>\n",
       "      <td>61.36</td>\n",
       "      <td>39.39</td>\n",
       "      <td>9050</td>\n",
       "    </tr>\n",
       "    <tr>\n",
       "      <th>5</th>\n",
       "      <td>2023-09-03</td>\n",
       "      <td>61.53</td>\n",
       "      <td>47.44</td>\n",
       "      <td>8861</td>\n",
       "    </tr>\n",
       "  </tbody>\n",
       "</table>\n",
       "</div>"
      ],
      "text/plain": [
       "       Tarih   Tüfe    Üfe  BİST-GIDA\n",
       "0 2023-02-03  67.07  47.29      10122\n",
       "1 2023-01-03  64.86  44.20       8676\n",
       "2 2023-12-03  64.77  44.22       8616\n",
       "3 2023-11-03  61.98  42.25       8250\n",
       "4 2023-10-03  61.36  39.39       9050\n",
       "5 2023-09-03  61.53  47.44       8861"
      ]
     },
     "execution_count": 3,
     "metadata": {},
     "output_type": "execute_result"
    }
   ],
   "source": [
    "df=pd.read_excel('Desktop/ÜFE.xlsx')\n",
    "df"
   ]
  },
  {
   "cell_type": "code",
   "execution_count": 8,
   "id": "d33f498d",
   "metadata": {},
   "outputs": [
    {
     "name": "stdout",
     "output_type": "stream",
     "text": [
      "            Tüfe        Üfe     BİST-GIDA\n",
      "count   6.000000   6.000000      6.000000\n",
      "mean   63.595000  44.131667   8929.166667\n",
      "std     2.320524   3.064529    642.733667\n",
      "min    61.360000  39.390000   8250.000000\n",
      "25%    61.642500  42.737500   8631.000000\n",
      "50%    63.375000  44.210000   8768.500000\n",
      "75%    64.837500  46.522500   9002.750000\n",
      "max    67.070000  47.440000  10122.000000\n"
     ]
    }
   ],
   "source": [
    "# Verilerin istatistik özetini oluşturma\n",
    "summary_statistics = df.describe()\n",
    "print(summary_statistics)\n"
   ]
  },
  {
   "cell_type": "code",
   "execution_count": 9,
   "id": "fa6be740",
   "metadata": {},
   "outputs": [
    {
     "name": "stdout",
     "output_type": "stream",
     "text": [
      "Veri Seti Bilgileri:\n",
      "<class 'pandas.core.frame.DataFrame'>\n",
      "RangeIndex: 6 entries, 0 to 5\n",
      "Data columns (total 4 columns):\n",
      " #   Column     Non-Null Count  Dtype         \n",
      "---  ------     --------------  -----         \n",
      " 0   Tarih      6 non-null      datetime64[ns]\n",
      " 1   Tüfe       6 non-null      float64       \n",
      " 2   Üfe        6 non-null      float64       \n",
      " 3   BİST-GIDA  6 non-null      int64         \n",
      "dtypes: datetime64[ns](1), float64(2), int64(1)\n",
      "memory usage: 324.0 bytes\n",
      "None\n",
      "\n",
      "İlk Beş Satır:\n",
      "       Tarih   Tüfe    Üfe  BİST-GIDA\n",
      "0 2023-02-03  67.07  47.29      10122\n",
      "1 2023-01-03  64.86  44.20       8676\n",
      "2 2023-12-03  64.77  44.22       8616\n",
      "3 2023-11-03  61.98  42.25       8250\n",
      "4 2023-10-03  61.36  39.39       9050\n",
      "\n",
      "Son Beş Satır:\n",
      "       Tarih   Tüfe    Üfe  BİST-GIDA\n",
      "1 2023-01-03  64.86  44.20       8676\n",
      "2 2023-12-03  64.77  44.22       8616\n",
      "3 2023-11-03  61.98  42.25       8250\n",
      "4 2023-10-03  61.36  39.39       9050\n",
      "5 2023-09-03  61.53  47.44       8861\n",
      "\n",
      "Ortalama Değerler:\n",
      "Tüfe           63.595000\n",
      "Üfe            44.131667\n",
      "BİST-GIDA    8929.166667\n",
      "dtype: float64\n",
      "\n",
      "Medyan Değerler:\n",
      "Tüfe           63.375\n",
      "Üfe            44.210\n",
      "BİST-GIDA    8768.500\n",
      "dtype: float64\n",
      "\n",
      "Standart Sapma Değerler:\n",
      "Tarih        144 days 13:11:59.252853662\n",
      "Tüfe                            2.320524\n",
      "Üfe                             3.064529\n",
      "BİST-GIDA                     642.733667\n",
      "dtype: object\n",
      "\n",
      "Minimum Değerler:\n",
      "Tarih        2023-01-03 00:00:00\n",
      "Tüfe                       61.36\n",
      "Üfe                        39.39\n",
      "BİST-GIDA                   8250\n",
      "dtype: object\n",
      "\n",
      "Maksimum Değerler:\n",
      "Tarih        2023-12-03 00:00:00\n",
      "Tüfe                       67.07\n",
      "Üfe                        47.44\n",
      "BİST-GIDA                  10122\n",
      "dtype: object\n",
      "\n",
      "Korelasyon Matrisi:\n",
      "               Tüfe       Üfe  BİST-GIDA\n",
      "Tüfe       1.000000  0.505399   0.593294\n",
      "Üfe        0.505399  1.000000   0.426659\n",
      "BİST-GIDA  0.593294  0.426659   1.000000\n"
     ]
    },
    {
     "name": "stderr",
     "output_type": "stream",
     "text": [
      "C:\\Users\\Casper\\AppData\\Local\\Temp\\ipykernel_6624\\4061003608.py:15: FutureWarning: DataFrame.mean and DataFrame.median with numeric_only=None will include datetime64 and datetime64tz columns in a future version.\n",
      "  print(df.mean())\n",
      "C:\\Users\\Casper\\AppData\\Local\\Temp\\ipykernel_6624\\4061003608.py:19: FutureWarning: DataFrame.mean and DataFrame.median with numeric_only=None will include datetime64 and datetime64tz columns in a future version.\n",
      "  print(df.median())\n",
      "C:\\Users\\Casper\\AppData\\Local\\Temp\\ipykernel_6624\\4061003608.py:33: FutureWarning: The default value of numeric_only in DataFrame.corr is deprecated. In a future version, it will default to False. Select only valid columns or specify the value of numeric_only to silence this warning.\n",
      "  print(df.corr())\n"
     ]
    }
   ],
   "source": [
    "# Veri setinin genel bilgilerini görüntüleme\n",
    "print(\"Veri Seti Bilgileri:\")\n",
    "print(df.info())\n",
    "\n",
    "# İlk beş satırı görüntüleme\n",
    "print(\"\\nİlk Beş Satır:\")\n",
    "print(df.head())\n",
    "\n",
    "# Son beş satırı görüntüleme\n",
    "print(\"\\nSon Beş Satır:\")\n",
    "print(df.tail())\n",
    "\n",
    "# Ortalama değerleri hesaplama\n",
    "print(\"\\nOrtalama Değerler:\")\n",
    "print(df.mean())\n",
    "\n",
    "# Medyan değerleri hesaplama\n",
    "print(\"\\nMedyan Değerler:\")\n",
    "print(df.median())\n",
    "\n",
    "# Standart sapma değerleri hesaplama\n",
    "print(\"\\nStandart Sapma Değerler:\")\n",
    "print(df.std())\n",
    "\n",
    "# Minimum ve maksimum değerleri görüntüleme\n",
    "print(\"\\nMinimum Değerler:\")\n",
    "print(df.min())\n",
    "print(\"\\nMaksimum Değerler:\")\n",
    "print(df.max())\n",
    "\n",
    "# Korelasyon matrisini oluşturma\n",
    "print(\"\\nKorelasyon Matrisi:\")\n",
    "print(df.corr())"
   ]
  },
  {
   "cell_type": "code",
   "execution_count": 16,
   "id": "4ee0bbce",
   "metadata": {},
   "outputs": [
    {
     "data": {
      "image/png": "[encoded data removed]",
      "text/plain": [
       "<Figure size 640x480 with 1 Axes>"
      ]
     },
     "metadata": {},
     "output_type": "display_data"
    }
   ],
   "source": [
    "# Nokta grafiği (scatter plot)\n",
    "plt.scatter(df.index, df['Tüfe'], label='Tüfe')\n",
    "plt.scatter(df.index, df['Üfe'], label='Üfe')\n",
    "plt.title('Tüfe ve Üfe Değişimi')\n",
    "plt.xlabel('Tarih')\n",
    "plt.ylabel('Değer')\n",
    "plt.xticks(rotation=45)\n",
    "plt.legend()\n",
    "plt.grid(True)\n",
    "plt.show()"
   ]
  },
  {
   "cell_type": "code",
   "execution_count": null,
   "id": "04ea12d6",
   "metadata": {},
   "outputs": [],
   "source": []
  },
  {
   "cell_type": "code",
   "execution_count": null,
   "id": "4f0e64a5",
   "metadata": {},
   "outputs": [],
   "source": []
  },
  {
   "cell_type": "code",
   "execution_count": null,
   "id": "fd231d7a",
   "metadata": {},
   "outputs": [],
   "source": []
  }
 ],
 "metadata": {
  "kernelspec": {
   "display_name": "Python 3 (ipykernel)",
   "language": "python",
   "name": "python3"
  },
  "language_info": {
   "codemirror_mode": {
    "name": "ipython",
    "version": 3
   },
   "file_extension": ".py",
   "mimetype": "text/x-python",
   "name": "python",
   "nbconvert_exporter": "python",
   "pygments_lexer": "ipython3",
   "version": "3.11.3"
  }
 },
 "nbformat": 4,
 "nbformat_minor": 5
}
